{
 "cells": [
  {
   "cell_type": "code",
   "execution_count": 1,
   "metadata": {
    "scrolled": true
   },
   "outputs": [
    {
     "data": {
      "application/javascript": [
       "IPython.notebook.set_autosave_interval(10000)"
      ]
     },
     "metadata": {},
     "output_type": "display_data"
    },
    {
     "name": "stdout",
     "output_type": "stream",
     "text": [
      "Autosaving every 10 seconds\n"
     ]
    }
   ],
   "source": [
    "# %pylab inline\n",
    "%matplotlib inline\n",
    "import matplotlib.pyplot as plt\n",
    "%load_ext autoreload\n",
    "%autoreload 2\n",
    "import numpy as np\n",
    "import random\n",
    "np.set_printoptions(suppress=True)\n",
    "%autosave 10"
   ]
  },
  {
   "cell_type": "code",
   "execution_count": 2,
   "metadata": {
    "scrolled": false
   },
   "outputs": [],
   "source": [
    "TOP_SCORE = 21\n",
    "ACE_VALUE = 1\n",
    "STAND, HIT = 0, 1\n",
    "blackjackDecks = 2\n",
    "blackjackCardsRem = 52 * blackjackDecks\n",
    "blackjackCardTypeRem = np.zeros(10)\n",
    "blackjackChance = np.zeros(10)\n",
    "# Should create a 3D array from 1 to 21 with a regret for hit and stand for each number.\n",
    "regretSumBlackjack = np.zeros((21, 2))\n",
    "for i in range(10):\n",
    "    if i == 9:\n",
    "        blackjackCardTypeRem[i] = 16 * blackjackDecks\n",
    "        blackjackChance[i] = blackjackCardTypeRem[i] / (52 * blackjackDecks)\n",
    "    else:\n",
    "        blackjackCardTypeRem[i] = 4 * blackjackDecks\n",
    "        blackjackChance[i] = blackjackCardTypeRem[i] / (52 * blackjackDecks)\n",
    "\n",
    "trainBlackjackCardsRem = blackjackCardsRem\n",
    "trainBlackjackCardTypeRem = np.copy(blackjackCardTypeRem)\n",
    "trainBlackjackChance = np.copy(blackjackChance)\n",
    "# print(blackjackChance)"
   ]
  },
  {
   "cell_type": "code",
   "execution_count": 3,
   "metadata": {},
   "outputs": [],
   "source": [
    "def changeCardChance(dealtCard):\n",
    "    global trainBlackjackCardsRem\n",
    "    global trainBlackjackCardTypeRem\n",
    "    global trainBlackjackChance\n",
    "#     if dealtCard >= 10:\n",
    "#         print(dealtCard)\n",
    "#     else:\n",
    "#         dealtCard -= 1\n",
    "#         print(dealtCard)\n",
    "\n",
    "#     print('after: ', dealtCard)\n",
    "    trainBlackjackCardsRem -= 1\n",
    "#     print(trainBlackjackCardTypeRem)\n",
    "    trainBlackjackCardTypeRem[dealtCard - 1] -= 1\n",
    "#     trainBlackjackChance[dealtCard - 1] = trainBlackjackCardTypeRem[dealtCard - 1] / trainBlackjackCardsRem\n",
    "    trainBlackjackChance = trainBlackjackCardTypeRem / trainBlackjackCardsRem\n",
    "    return 0\n",
    "\n",
    "def blackjackHit():\n",
    "#     print(trainBlackjackChance)\n",
    "    cumSumTrainBlackjackChance = np.cumsum(trainBlackjackChance)\n",
    "    randomInt = random.random()\n",
    "#     print(cumSumTrainBlackjackChance)\n",
    "#     print(randomInt)\n",
    "    dealtCard = (np.searchsorted(cumSumTrainBlackjackChance, randomInt) + 1)\n",
    "#     print('before: ', dealtCard)\n",
    "    changeCardChance(dealtCard)\n",
    "    return dealtCard\n",
    "\n",
    "def aceTrainBlackjackHit(handValue, regretSum):\n",
    "    for i in range(2):\n",
    "        dealtCard = blackjackHit()\n",
    "        if dealtCard == ACE_VALUE and handValue < 11:\n",
    "            dealtCard = 11\n",
    "        handValue += dealtCard\n",
    "    while handValue < 21:\n",
    "        tempHandValue = handValue - 1\n",
    "        dealtCard = blackjackHit()\n",
    "        if dealtCard == ACE_VALUE and handValue < 11:\n",
    "            dealtCard = 11\n",
    "        if (handValue + dealtCard) <= 21:\n",
    "            handValue += dealtCard\n",
    "        else:\n",
    "            break\n",
    "\n",
    "        if(handValue <= 21):\n",
    "#             print(tempHandValue)\n",
    "            regretSum[tempHandValue][1] += 1\n",
    "            regretSum[tempHandValue][0] -= 1\n",
    "        \n",
    "    return handValue, regretSum"
   ]
  },
  {
   "cell_type": "code",
   "execution_count": 4,
   "metadata": {},
   "outputs": [],
   "source": [
    "def normalizeBlackjack(strategy):\n",
    "    # If strategy is zeroes, then each index given equal fraction.\n",
    "    strategy = np.copy(strategy)\n",
    "    for i in range(21):\n",
    "        normalizingSum = np.sum(strategy[i])\n",
    "        if normalizingSum > 0:\n",
    "            strategy[i] /= normalizingSum\n",
    "        else:\n",
    "            strategy[i] = np.ones(strategy.shape[1])/strategy.shape[1]\n",
    "    return strategy\n",
    "\n",
    "def getStrategyBlackjack(regretSum):\n",
    "#     print('shape3: ', regretSum.shape)\n",
    "    return normalizeBlackjack(np.maximum(regretSum, 0))\n",
    "\n",
    "def getActionBlackjack(strategy, value):\n",
    "    value -= 1\n",
    "    strategy[value] = strategy[value] / np.sum(strategy[value]) # Normalize\n",
    "#     print(np.cumsum(strategy[value]))\n",
    "    # Index zero (0) is stand and indes one (1) is hit.\n",
    "    return np.searchsorted(np.cumsum(strategy[value]), random.random())"
   ]
  },
  {
   "cell_type": "code",
   "execution_count": 5,
   "metadata": {},
   "outputs": [],
   "source": [
    "def getHand(myStrategy):\n",
    "    # Get the first two cards for the hand.\n",
    "        # These two cards are required and any hit after this is not.\n",
    "    handValue = 0\n",
    "    aceCount = 0\n",
    "    for i in range(2):\n",
    "        dealtCard = blackjackHit()\n",
    "        if dealtCard == ACE_VALUE and handValue < 11:\n",
    "            dealtCard = 11\n",
    "            aceCount += 1\n",
    "        handValue += dealtCard\n",
    "    while handValue < 21:\n",
    "        action = getActionBlackjack(myStrategy, handValue)\n",
    "        if action == 1:\n",
    "            dealtCard = blackjackHit()\n",
    "            if dealtCard == ACE_VALUE and handValue < 11:\n",
    "                dealtCard = 11\n",
    "                aceCount += 1\n",
    "            handValue += dealtCard\n",
    "            if handValue > 21 and aceCount > 0:\n",
    "                handValue -= 10\n",
    "                aceCount -= 1\n",
    "        elif action == 0:\n",
    "            break\n",
    "    return handValue\n",
    "\n",
    "def getResult(myHand):\n",
    "    houseHand = blackjackHit() + blackjackHit()\n",
    "    while myHand > houseHand:\n",
    "        houseHand += blackjackHit()\n",
    "        \n",
    "#     print(myHand, ' ', houseHand)\n",
    "    if houseHand == myHand:\n",
    "        return 0\n",
    "    elif houseHand > myHand and houseHand <= TOP_SCORE:\n",
    "        return -1\n",
    "    elif houseHand > TOP_SCORE:\n",
    "        return 1"
   ]
  },
  {
   "cell_type": "code",
   "execution_count": 6,
   "metadata": {
    "scrolled": true
   },
   "outputs": [],
   "source": [
    "def innertrainJackblack(regretSum):\n",
    "    \n",
    "    # select my action and opponent action\n",
    "    handValue, regretSum = aceTrainBlackjackHit(0, regretSum)\n",
    "    result = getResult(handValue)\n",
    "    \n",
    "#     if handValue == 21:\n",
    "#         print(regretSum)\n",
    "#         print(result)\n",
    "\n",
    "    tempHandValue = handValue - 1\n",
    "    \n",
    "    if result == -1:\n",
    "#         print(tempHandValue)\n",
    "        regretSum[tempHandValue][1] += 1\n",
    "        regretSum[tempHandValue][0] -= 1\n",
    "    elif result == 1:\n",
    "        regretSum[tempHandValue][1] -= 1\n",
    "        regretSum[tempHandValue][0] += 1\n",
    "    elif result == 0:\n",
    "        regretSum[tempHandValue][1] -= 1\n",
    "        regretSum[tempHandValue][0] += 1\n",
    "        \n",
    "    return regretSum\n",
    "\n",
    "def trainBlackjack(oiterations, iterations):\n",
    "    strategySum = np.copy(regretSumBlackjack)\n",
    "#     print('shape: ', strategySum.shape)\n",
    "    \n",
    "    for j in range(oiterations):\n",
    "        regretSum = np.zeros(regretSumBlackjack.shape)\n",
    "        global trainBlackjackCardsRem\n",
    "        global trainBlackjackCardTypeRem\n",
    "        global trainBlackjackChance\n",
    "#         print('shape2: ', regretSum.shape)\n",
    "#         print('beforeTrainRegretSum: ', regretSum)\n",
    "        \n",
    "        for i in range(iterations):\n",
    "            regretSum = innertrainJackblack(regretSum)\n",
    "            strategy = getStrategyBlackjack(regretSum)\n",
    "            strategySum += strategy\n",
    "            if trainBlackjackCardsRem < (blackjackCardsRem / 2):\n",
    "                trainBlackjackCardsRem = blackjackCardsRem\n",
    "                trainBlackjackCardTypeRem = np.copy(blackjackCardTypeRem)\n",
    "                trainBlackjackChance = np.copy(blackjackChance)\n",
    "#         print(regretSum[-1])\n",
    "#         print(regretSum[20])\n",
    "        \n",
    "#         print('RegretSum: ' , regretSumP1)\n",
    "#         print(\"%d\" % j, normalizeBlackjack(strategySum))\n",
    "        \n",
    "    return strategySum\n",
    "\n",
    "trainBlackjackCardsRem = blackjackCardsRem\n",
    "trainBlackjackCardTypeRem = np.copy(blackjackCardTypeRem)\n",
    "trainBlackjackChance = np.copy(blackjackChance)\n",
    "s1 = trainBlackjack(30, 2500)"
   ]
  },
  {
   "cell_type": "code",
   "execution_count": 7,
   "metadata": {
    "scrolled": false
   },
   "outputs": [
    {
     "data": {
      "text/plain": [
       "array([[0.5       , 0.5       ],\n",
       "       [0.5       , 0.5       ],\n",
       "       [0.5       , 0.5       ],\n",
       "       [0.0373    , 0.9627    ],\n",
       "       [0.01518   , 0.98482   ],\n",
       "       [0.01311333, 0.98688667],\n",
       "       [0.00552667, 0.99447333],\n",
       "       [0.00396   , 0.99604   ],\n",
       "       [0.00539333, 0.99460667],\n",
       "       [0.00414667, 0.99585333],\n",
       "       [0.00334   , 0.99666   ],\n",
       "       [0.00215333, 0.99784667],\n",
       "       [0.00234667, 0.99765333],\n",
       "       [0.00254667, 0.99745333],\n",
       "       [0.00331333, 0.99668667],\n",
       "       [0.00552667, 0.99447333],\n",
       "       [0.00453333, 0.99546667],\n",
       "       [0.07466   , 0.92534   ],\n",
       "       [0.96122667, 0.03877333],\n",
       "       [0.99760667, 0.00239333],\n",
       "       [0.99928   , 0.00072   ]])"
      ]
     },
     "execution_count": 7,
     "metadata": {},
     "output_type": "execute_result"
    }
   ],
   "source": [
    "myStrategy = normalizeBlackjack(s1)\n",
    "myStrategy"
   ]
  },
  {
   "cell_type": "code",
   "execution_count": 8,
   "metadata": {
    "scrolled": true
   },
   "outputs": [],
   "source": [
    "# array = np.copy(regretSumBlackjack)\n",
    "# print(array)\n",
    "# array2 = array.shape[1]\n",
    "# print(array2) \n",
    "# array3 = np.zeros(3)\n",
    "# print(np.ones(array3.shape[0]) / 2)\n",
    "# strategySum = np.copy(regretSumBlackjack)\n",
    "# print(strategySum.shape)\n",
    "# array4 = np.ones(array.shape) / 2\n",
    "# print(array4)\n",
    "# array5 = np.ones(3)\n",
    "# array5 += 1\n",
    "# array6 = array5 - 1\n",
    "# print(array6)\n",
    "# print(regretSumBlackjack.shape[1])\n",
    "# array7 = np.arange(50)\n",
    "# array7 = array7.reshape(10, 5)\n",
    "# print(array7)\n",
    "# array8 = array7[5][0:3]\n",
    "# array8"
   ]
  },
  {
   "cell_type": "code",
   "execution_count": 9,
   "metadata": {},
   "outputs": [
    {
     "data": {
      "text/plain": [
       "([<matplotlib.lines.Line2D at 0x11ae73d68>], -21.59, -22.0)"
      ]
     },
     "execution_count": 9,
     "metadata": {},
     "output_type": "execute_result"
    },
    {
     "data": {
      "image/png": "[encoded data removed]",
      "text/plain": [
       "<Figure size 432x288 with 1 Axes>"
      ]
     },
     "metadata": {
      "needs_background": "light"
     },
     "output_type": "display_data"
    }
   ],
   "source": [
    "trainBlackjackCardsRem = blackjackCardsRem\n",
    "trainBlackjackCardTypeRem = np.copy(blackjackCardTypeRem)\n",
    "trainBlackjackChance = np.copy(blackjackChance)\n",
    "vvv = []\n",
    "for j in range(200):\n",
    "    vv = 0\n",
    "    for i in range(100):\n",
    "#         strategy = getStrategy()\n",
    "#         strategy = [0,1,0]\n",
    "        myHand = getHand(myStrategy)\n",
    "#         print(myHand)\n",
    "        if myHand > 21:\n",
    "            vv -= 1\n",
    "        else:\n",
    "            result = getResult(myHand)\n",
    "#             print(result)\n",
    "            vv += result\n",
    "#             print(vv)\n",
    "        if trainBlackjackCardsRem < 62:\n",
    "                trainBlackjackCardsRem = blackjackCardsRem\n",
    "                trainBlackjackCardTypeRem = np.copy(blackjackCardTypeRem)\n",
    "                trainBlackjackChance = np.copy(blackjackChance)\n",
    "#     print(vv)\n",
    "    vvv.append(vv)\n",
    "plt.plot(sorted(vvv)), np.mean(vvv), np.median(vvv)"
   ]
  },
  {
   "cell_type": "code",
   "execution_count": null,
   "metadata": {},
   "outputs": [],
   "source": []
  }
 ],
 "metadata": {
  "kernelspec": {
   "display_name": "Python 3",
   "language": "python",
   "name": "python3"
  },
  "language_info": {
   "codemirror_mode": {
    "name": "ipython",
    "version": 3
   },
   "file_extension": ".py",
   "mimetype": "text/x-python",
   "name": "python",
   "nbconvert_exporter": "python",
   "pygments_lexer": "ipython3",
   "version": "3.7.2"
  }
 },
 "nbformat": 4,
 "nbformat_minor": 2
}
